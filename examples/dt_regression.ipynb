{
 "cells": [
  {
   "cell_type": "code",
   "execution_count": 10,
   "metadata": {},
   "outputs": [],
   "source": [
    "from deeptables.models import deeptable,deepnets\n",
    "from sklearn.model_selection import train_test_split\n",
    "from sklearn import datasets\n",
    "from sklearn.metrics import mean_squared_error, r2_score\n",
    "import pandas as pd\n",
    "import numpy as np"
   ]
  },
  {
   "cell_type": "code",
   "execution_count": 2,
   "metadata": {
    "scrolled": true
   },
   "outputs": [
    {
     "name": "stdout",
     "output_type": "stream",
     "text": [
      "Target column type is float, so inferred as a [regression] task.\n",
      "Preparing features cost:0.021545886993408203\n",
      "Imputation cost:0.012331008911132812\n",
      "Categorical encoding cost:2.288818359375e-05\n",
      "fit_transform cost:0.11065292358398438\n",
      "Injected a callback [EarlyStopping]. monitor:val_RootMeanSquaredError, patience:5, mode:min\n",
      ">>>>>>>>>>>>>>>>>>>>>> Model Desc <<<<<<<<<<<<<<<<<<<<<<< \n",
      "---------------------------------------------------------\n",
      "inputs:\n",
      "---------------------------------------------------------\n",
      "['all_categorical_vars: (0)', 'input_continuous_all: (13)']\n",
      "---------------------------------------------------------\n",
      "embeddings:\n",
      "---------------------------------------------------------\n",
      "input_dims: []\n",
      "output_dims: []\n",
      "dropout: 0.3\n",
      "---------------------------------------------------------\n",
      "dense: dropout: 0\n",
      "batch_normalization: False\n",
      "---------------------------------------------------------\n",
      "concat_embed_dense: shape: (None, 13)\n",
      "---------------------------------------------------------\n",
      "nets: ['dnn_nets']\n",
      "---------------------------------------------------------\n",
      "dnn: input_shape (None, 13), output_shape (None, 64)\n",
      "---------------------------------------------------------\n",
      "stacking_op: add\n",
      "---------------------------------------------------------\n",
      "output: activation: None, output_shape: (None, 1), use_bias: True\n",
      "loss: mse\n",
      "optimizer: Adam\n",
      "---------------------------------------------------------\n",
      "\n",
      "Train on 323 samples, validate on 81 samples\n",
      "Epoch 1/100\n",
      "323/323 [==============================] - 9s 27ms/sample - loss: 627.5293 - RootMeanSquaredError: 25.0505 - val_loss: 655.0863 - val_RootMeanSquaredError: 25.5947\n",
      "Epoch 2/100\n",
      "323/323 [==============================] - 0s 847us/sample - loss: 592.8013 - RootMeanSquaredError: 24.3475 - val_loss: 285.4664 - val_RootMeanSquaredError: 16.8958\n",
      "Epoch 3/100\n",
      "323/323 [==============================] - 0s 792us/sample - loss: 560.5877 - RootMeanSquaredError: 23.6767 - val_loss: 152.0466 - val_RootMeanSquaredError: 12.3307\n",
      "Epoch 4/100\n",
      "323/323 [==============================] - 0s 561us/sample - loss: 529.6485 - RootMeanSquaredError: 23.0141 - val_loss: 103.4935 - val_RootMeanSquaredError: 10.1732\n",
      "Epoch 5/100\n",
      "323/323 [==============================] - 0s 527us/sample - loss: 499.0049 - RootMeanSquaredError: 22.3384 - val_loss: 98.3129 - val_RootMeanSquaredError: 9.9153\n",
      "Epoch 6/100\n",
      "323/323 [==============================] - 0s 463us/sample - loss: 469.0466 - RootMeanSquaredError: 21.6575 - val_loss: 117.5035 - val_RootMeanSquaredError: 10.8399\n",
      "Epoch 7/100\n",
      "323/323 [==============================] - 0s 409us/sample - loss: 439.3420 - RootMeanSquaredError: 20.9605 - val_loss: 151.9936 - val_RootMeanSquaredError: 12.3286\n",
      "Epoch 8/100\n",
      "323/323 [==============================] - 0s 442us/sample - loss: 408.1628 - RootMeanSquaredError: 20.2030 - val_loss: 199.3482 - val_RootMeanSquaredError: 14.1191\n",
      "Epoch 9/100\n",
      "323/323 [==============================] - 0s 405us/sample - loss: 377.7871 - RootMeanSquaredError: 19.4367 - val_loss: 255.2993 - val_RootMeanSquaredError: 15.9781\n",
      "Epoch 10/100\n",
      "128/323 [==========>...................] - ETA: 0s - loss: 336.6297 - RootMeanSquaredError: 18.3475Restoring model weights from the end of the best epoch.\n",
      "323/323 [==============================] - 0s 417us/sample - loss: 344.9853 - RootMeanSquaredError: 18.5738 - val_loss: 320.6223 - val_RootMeanSquaredError: 17.9059\n",
      "Epoch 00010: early stopping\n",
      "Model has been saved to:dt_output/dt_20200331 183259_dnn_nets/dnn_nets.h5\n"
     ]
    }
   ],
   "source": [
    "boston_dataset = datasets.load_boston()\n",
    "\n",
    "df_train = pd.DataFrame(boston_dataset.data)\n",
    "df_train.columns = boston_dataset.feature_names\n",
    "y = pd.Series(boston_dataset.target)\n",
    "X = df_train\n",
    "\n",
    "conf = deeptable.ModelConfig(\n",
    "    metrics=['RootMeanSquaredError'], \n",
    "    nets=['dnn_nets'],\n",
    "    dnn_params={\n",
    "        'hidden_units': ((256, 0.3, True), (256, 0.3, True)),\n",
    "        'dnn_activation': 'relu',\n",
    "    },\n",
    "    earlystopping_patience=5,\n",
    ")\n",
    "\n",
    "dt = deeptable.DeepTable(config=conf)\n",
    "\n",
    "X_train, X_test, y_train, y_test = train_test_split(X, y, test_size=0.2, random_state=42)\n",
    "model, history = dt.fit(X_train, y_train, epochs=100)"
   ]
  },
  {
   "cell_type": "code",
   "execution_count": 3,
   "metadata": {},
   "outputs": [
    {
     "name": "stdout",
     "output_type": "stream",
     "text": [
      "transform_X cost:0.02986001968383789\n",
      "transform_y cost:0.00014781951904296875\n",
      "{'loss': 92.39762115478516, 'RootMeanSquaredError': 9.612369}\n"
     ]
    }
   ],
   "source": [
    "result = dt.evaluate(X_test, y_test)\n",
    "print(result)"
   ]
  },
  {
   "cell_type": "code",
   "execution_count": 4,
   "metadata": {},
   "outputs": [
    {
     "name": "stdout",
     "output_type": "stream",
     "text": [
      "transform_X cost:0.01795196533203125\n",
      "predict_proba cost:0.42058396339416504\n"
     ]
    }
   ],
   "source": [
    "dt_preds = dt.predict_proba(X_test, batch_size=10)\n",
    "#dt_preds"
   ]
  },
  {
   "cell_type": "code",
   "execution_count": 11,
   "metadata": {},
   "outputs": [
    {
     "name": "stdout",
     "output_type": "stream",
     "text": [
      "The model performance for testing set\n",
      "--------------------------------------\n",
      "RMSE is 9.612367819680395\n",
      "R2 score is -0.25995975004898875\n"
     ]
    }
   ],
   "source": [
    "# root mean square error of the model\n",
    "rmse = (np.sqrt(mean_squared_error(y_test, dt_preds)))\n",
    "\n",
    "# r-squared score of the model\n",
    "r2 = r2_score(y_test, dt_preds)\n",
    "\n",
    "print(\"The model performance for testing set\")\n",
    "print(\"--------------------------------------\")\n",
    "print('RMSE is {}'.format(rmse))\n",
    "print('R2 score is {}'.format(r2))"
   ]
  },
  {
   "cell_type": "code",
   "execution_count": null,
   "metadata": {},
   "outputs": [],
   "source": []
  }
 ],
 "metadata": {
  "kernelspec": {
   "display_name": "Python 3",
   "language": "python",
   "name": "python3"
  },
  "language_info": {
   "codemirror_mode": {
    "name": "ipython",
    "version": 3
   },
   "file_extension": ".py",
   "mimetype": "text/x-python",
   "name": "python",
   "nbconvert_exporter": "python",
   "pygments_lexer": "ipython3",
   "version": "3.7.5"
  }
 },
 "nbformat": 4,
 "nbformat_minor": 4
}
